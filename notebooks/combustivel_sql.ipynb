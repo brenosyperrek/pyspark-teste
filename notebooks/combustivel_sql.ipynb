{
 "cells": [
  {
   "cell_type": "code",
   "execution_count": 1,
   "id": "60847d07",
   "metadata": {},
   "outputs": [],
   "source": [
    "from pyspark.sql import SparkSession"
   ]
  },
  {
   "cell_type": "code",
   "execution_count": 2,
   "id": "29cfeaab",
   "metadata": {},
   "outputs": [
    {
     "name": "stderr",
     "output_type": "stream",
     "text": [
      "WARNING: Using incubator modules: jdk.incubator.vector\n",
      "Using Spark's default log4j profile: org/apache/spark/log4j2-defaults.properties\n",
      "25/10/22 11:24:58 WARN Utils: Your hostname, GTI-DADOS, resolves to a loopback address: 127.0.1.1; using 10.255.255.254 instead (on interface lo)\n",
      "25/10/22 11:24:58 WARN Utils: Set SPARK_LOCAL_IP if you need to bind to another address\n",
      "Using Spark's default log4j profile: org/apache/spark/log4j2-defaults.properties\n",
      "Setting default log level to \"WARN\".\n",
      "To adjust logging level use sc.setLogLevel(newLevel). For SparkR, use setLogLevel(newLevel).\n",
      "25/10/22 11:24:58 WARN NativeCodeLoader: Unable to load native-hadoop library for your platform... using builtin-java classes where applicable\n"
     ]
    }
   ],
   "source": [
    "spark = ( \n",
    " SparkSession\n",
    " .builder\n",
    "    .master(\"local[*]\")\n",
    " .appName('spark_sql')\n",
    " .getOrCreate()\n",
    ")"
   ]
  },
  {
   "cell_type": "code",
   "execution_count": 3,
   "id": "dd33065c",
   "metadata": {},
   "outputs": [],
   "source": [
    "df = (\n",
    "    spark\n",
    "    .read\n",
    "    .option('delimiter', ';')\n",
    "    .option('header', 'true')\n",
    "    .option('inferSchema', 'true')\n",
    "    .option('enconding', 'ISO-8859-1')\n",
    "    .csv('../data/raw/precos-gasolina-etanol-09.csv')\n",
    ")"
   ]
  },
  {
   "cell_type": "code",
   "execution_count": 4,
   "id": "f8689c05",
   "metadata": {},
   "outputs": [
    {
     "name": "stdout",
     "output_type": "stream",
     "text": [
      "root\n",
      " |-- Regiao - Sigla: string (nullable = true)\n",
      " |-- Estado - Sigla: string (nullable = true)\n",
      " |-- Municipio: string (nullable = true)\n",
      " |-- Revenda: string (nullable = true)\n",
      " |-- CNPJ da Revenda: string (nullable = true)\n",
      " |-- Nome da Rua: string (nullable = true)\n",
      " |-- Numero Rua: string (nullable = true)\n",
      " |-- Complemento: string (nullable = true)\n",
      " |-- Bairro: string (nullable = true)\n",
      " |-- Cep: string (nullable = true)\n",
      " |-- Produto: string (nullable = true)\n",
      " |-- Data da Coleta: string (nullable = true)\n",
      " |-- Valor de Venda: string (nullable = true)\n",
      " |-- Valor de Compra: string (nullable = true)\n",
      " |-- Unidade de Medida: string (nullable = true)\n",
      " |-- Bandeira: string (nullable = true)\n",
      "\n"
     ]
    }
   ],
   "source": [
    "df.printSchema()"
   ]
  },
  {
   "cell_type": "code",
   "execution_count": 5,
   "id": "d5cdc5ae",
   "metadata": {},
   "outputs": [],
   "source": [
    "df.createOrReplaceTempView('combustiveis')"
   ]
  },
  {
   "cell_type": "code",
   "execution_count": 6,
   "id": "676e6cf9",
   "metadata": {},
   "outputs": [
    {
     "name": "stdout",
     "output_type": "stream",
     "text": [
      "+--------------+--------------+---------+-------+---------------+-----------+----------+-----------+------+---+-------+--------------+--------------+---------------+-----------------+--------+\n",
      "|Regiao - Sigla|Estado - Sigla|Municipio|Revenda|CNPJ da Revenda|Nome da Rua|Numero Rua|Complemento|Bairro|Cep|Produto|Data da Coleta|Valor de Venda|Valor de Compra|Unidade de Medida|Bandeira|\n",
      "+--------------+--------------+---------+-------+---------------+-----------+----------+-----------+------+---+-------+--------------+--------------+---------------+-----------------+--------+\n",
      "+--------------+--------------+---------+-------+---------------+-----------+----------+-----------+------+---+-------+--------------+--------------+---------------+-----------------+--------+\n",
      "\n"
     ]
    }
   ],
   "source": [
    "spark.sql(\"\"\"\n",
    "    select * from combustiveis where `Valor de Compra` IS NOT NULL\n",
    "\"\"\").show()"
   ]
  },
  {
   "cell_type": "code",
   "execution_count": 7,
   "id": "db19bd04",
   "metadata": {},
   "outputs": [],
   "source": [
    "view_precos = spark.sql(\"\"\"\n",
    "    select \n",
    "        `Estado - Sigla`, \n",
    "        `Produto`, \n",
    "        regexp_replace(`Valor de Venda`, \",\", \".\") as `Valor de Venda`,\n",
    "        `Unidade de Medida`\n",
    "    from combustiveis\n",
    "\"\"\")"
   ]
  },
  {
   "cell_type": "code",
   "execution_count": 8,
   "id": "4eb7275e",
   "metadata": {},
   "outputs": [
    {
     "name": "stdout",
     "output_type": "stream",
     "text": [
      "+--------------+--------+--------------+-----------------+\n",
      "|Estado - Sigla| Produto|Valor de Venda|Unidade de Medida|\n",
      "+--------------+--------+--------------+-----------------+\n",
      "|            SP|GASOLINA|          5.59|       R$ / litro|\n",
      "|            SP|  ETANOL|          3.69|       R$ / litro|\n",
      "|            AP|GASOLINA|          5.95|       R$ / litro|\n",
      "|            AP|GASOLINA|          5.95|       R$ / litro|\n",
      "|            AP|GASOLINA|          5.95|       R$ / litro|\n",
      "+--------------+--------+--------------+-----------------+\n",
      "only showing top 5 rows\n"
     ]
    }
   ],
   "source": [
    "view_precos.createOrReplaceTempView('view_precos')\n",
    "view_precos.show(5)"
   ]
  },
  {
   "cell_type": "code",
   "execution_count": 11,
   "id": "ae6cac3b",
   "metadata": {},
   "outputs": [
    {
     "name": "stdout",
     "output_type": "stream",
     "text": [
      "root\n",
      " |-- Estado - Sigla: string (nullable = true)\n",
      " |-- Produto: string (nullable = true)\n",
      " |-- Valor de Venda: string (nullable = true)\n",
      " |-- Unidade de Medida: string (nullable = true)\n",
      "\n"
     ]
    }
   ],
   "source": [
    "view_precos.printSchema()"
   ]
  },
  {
   "cell_type": "code",
   "execution_count": 12,
   "id": "5dbb54de",
   "metadata": {},
   "outputs": [
    {
     "name": "stdout",
     "output_type": "stream",
     "text": [
      "+--------------+------------------+-----------------+-----------+-----------+---------+\n",
      "|Estado - Sigla|           Produto|Unidade de Medida|menor_valor|maior_valor|diferenca|\n",
      "+--------------+------------------+-----------------+-----------+-----------+---------+\n",
      "|            SP|GASOLINA ADITIVADA|       R$ / litro|      5.190|      9.590|    4.400|\n",
      "|            SP|          GASOLINA|       R$ / litro|      4.990|      9.190|    4.200|\n",
      "|            SP|            ETANOL|       R$ / litro|      3.190|      6.390|    3.200|\n",
      "|            BA|GASOLINA ADITIVADA|       R$ / litro|      5.440|      8.490|    3.050|\n",
      "|            RJ|          GASOLINA|       R$ / litro|      5.390|      7.790|    2.400|\n",
      "+--------------+------------------+-----------------+-----------+-----------+---------+\n",
      "only showing top 5 rows\n"
     ]
    }
   ],
   "source": [
    "df_diferenca_precos = spark.sql(\"\"\"\n",
    "    SELECT\n",
    "    `Estado - Sigla`,\n",
    "    `Produto`,\n",
    "    `Unidade de Medida`,\n",
    "    MIN(CAST(`Valor de Venda` AS DECIMAL(10, 3))) AS menor_valor, -- Cast within MIN/MAX\n",
    "    MAX(CAST(`Valor de Venda` AS DECIMAL(10, 3))) AS maior_valor, -- Cast within MIN/MAX\n",
    "    MAX(CAST(`Valor de Venda` AS DECIMAL(10, 3))) - MIN(CAST(`Valor de Venda` AS DECIMAL(10, 3))) AS diferenca -- Re-calculate the difference\n",
    "FROM view_precos\n",
    "GROUP BY ALL\n",
    "ORDER BY diferenca DESC\n",
    "\"\"\")\n",
    "df_diferenca_precos.show(5)"
   ]
  }
 ],
 "metadata": {
  "kernelspec": {
   "display_name": "pyspak-teste",
   "language": "python",
   "name": "python3"
  },
  "language_info": {
   "codemirror_mode": {
    "name": "ipython",
    "version": 3
   },
   "file_extension": ".py",
   "mimetype": "text/x-python",
   "name": "python",
   "nbconvert_exporter": "python",
   "pygments_lexer": "ipython3",
   "version": "3.14.0"
  }
 },
 "nbformat": 4,
 "nbformat_minor": 5
}
