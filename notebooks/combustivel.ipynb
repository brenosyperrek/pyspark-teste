{
 "cells": [
  {
   "cell_type": "code",
   "execution_count": 1,
   "id": "38fdf0bf",
   "metadata": {},
   "outputs": [],
   "source": [
    "from pyspark.sql import SparkSession\n",
    "from pyspark.sql import functions as F"
   ]
  },
  {
   "cell_type": "code",
   "execution_count": 2,
   "id": "79d2eb0b",
   "metadata": {},
   "outputs": [
    {
     "name": "stderr",
     "output_type": "stream",
     "text": [
      "WARNING: Using incubator modules: jdk.incubator.vector\n",
      "Using Spark's default log4j profile: org/apache/spark/log4j2-defaults.properties\n",
      "25/10/22 10:40:10 WARN Utils: Your hostname, GTI-DADOS, resolves to a loopback address: 127.0.1.1; using 10.255.255.254 instead (on interface lo)\n",
      "25/10/22 10:40:10 WARN Utils: Set SPARK_LOCAL_IP if you need to bind to another address\n",
      "Using Spark's default log4j profile: org/apache/spark/log4j2-defaults.properties\n",
      "Setting default log level to \"WARN\".\n",
      "To adjust logging level use sc.setLogLevel(newLevel). For SparkR, use setLogLevel(newLevel).\n",
      "25/10/22 10:40:11 WARN NativeCodeLoader: Unable to load native-hadoop library for your platform... using builtin-java classes where applicable\n",
      "25/10/22 10:40:12 WARN Utils: Service 'SparkUI' could not bind on port 4040. Attempting port 4041.\n"
     ]
    }
   ],
   "source": [
    "spark = (\n",
    "    SparkSession\n",
    "    .builder\n",
    "    .master(\"local[*]\")\n",
    "    .appName(\"Combustiveis Analysis\")\n",
    "    .getOrCreate()\n",
    ")"
   ]
  },
  {
   "cell_type": "code",
   "execution_count": 3,
   "id": "ac9a6fb3",
   "metadata": {},
   "outputs": [],
   "source": [
    "df = (\n",
    "    spark\n",
    "    .read\n",
    "    .option('delimiter', ';')\n",
    "    .option('header', 'true')\n",
    "    .option('inferSchema', 'true')\n",
    "    .option('encoding', 'ISO-8859-1')\n",
    "    .csv('../data/raw/precos-gasolina-etanol-09.csv')\n",
    ")"
   ]
  },
  {
   "cell_type": "code",
   "execution_count": 4,
   "id": "4d7c242f",
   "metadata": {},
   "outputs": [
    {
     "name": "stdout",
     "output_type": "stream",
     "text": [
      "root\n",
      " |-- Regiao - Sigla: string (nullable = true)\n",
      " |-- Estado - Sigla: string (nullable = true)\n",
      " |-- Municipio: string (nullable = true)\n",
      " |-- Revenda: string (nullable = true)\n",
      " |-- CNPJ da Revenda: string (nullable = true)\n",
      " |-- Nome da Rua: string (nullable = true)\n",
      " |-- Numero Rua: string (nullable = true)\n",
      " |-- Complemento: string (nullable = true)\n",
      " |-- Bairro: string (nullable = true)\n",
      " |-- Cep: string (nullable = true)\n",
      " |-- Produto: string (nullable = true)\n",
      " |-- Data da Coleta: string (nullable = true)\n",
      " |-- Valor de Venda: string (nullable = true)\n",
      " |-- Valor de Compra: string (nullable = true)\n",
      " |-- Unidade de Medida: string (nullable = true)\n",
      " |-- Bandeira: string (nullable = true)\n",
      "\n"
     ]
    }
   ],
   "source": [
    "df.printSchema()"
   ]
  },
  {
   "cell_type": "code",
   "execution_count": 5,
   "id": "7900780a",
   "metadata": {},
   "outputs": [
    {
     "name": "stdout",
     "output_type": "stream",
     "text": [
      "+--------------+--------------+---------+--------------------+-------------------+--------------------+----------+--------------------+--------------+---------+------------------+--------------+--------------+---------------+-----------------+--------+\n",
      "|Regiao - Sigla|Estado - Sigla|Municipio|             Revenda|    CNPJ da Revenda|         Nome da Rua|Numero Rua|         Complemento|        Bairro|      Cep|           Produto|Data da Coleta|Valor de Venda|Valor de Compra|Unidade de Medida|Bandeira|\n",
      "+--------------+--------------+---------+--------------------+-------------------+--------------------+----------+--------------------+--------------+---------+------------------+--------------+--------------+---------------+-----------------+--------+\n",
      "|            SE|            SP| SOROCABA|COMPETRO COMERCIO...| 00.003.188/0001-21|RUA HUMBERTO DE C...|       306|                NULL|JARDIM ZULMIRA|18061-000|          GASOLINA|    01/09/2025|          5,59|           NULL|       R$ / litro|  BRANCA|\n",
      "|            SE|            SP| SOROCABA|COMPETRO COMERCIO...| 00.003.188/0001-21|RUA HUMBERTO DE C...|       306|                NULL|JARDIM ZULMIRA|18061-000|            ETANOL|    01/09/2025|          3,69|           NULL|       R$ / litro|  BRANCA|\n",
      "|             N|            AP|   MACAPA|AUTOMOTO - AUTOMO...| 03.659.452/0006-82|RUA CICERO MARQUE...|      3134|                NULL|NOVO HORIZONTE|68909-803|          GASOLINA|    01/09/2025|          5,95|           NULL|       R$ / litro|  BRANCA|\n",
      "|             N|            AP|   MACAPA|AUTOMOTO - AUTOMO...| 03.659.452/0003-30|RUA CLAUDOMIRO DE...|      1130|                NULL|NOVO BURITIZAL|68904-000|          GASOLINA|    01/09/2025|          5,95|           NULL|       R$ / litro|  BRANCA|\n",
      "|             N|            AP|   MACAPA|AUTOMOTO - AUTOMO...| 03.659.452/0004-10|AVENIDA VIOLETA M...|       275|                NULL|        CONGOS|68900-000|          GASOLINA|    01/09/2025|          5,95|           NULL|       R$ / litro|  BRANCA|\n",
      "|             N|            AP|   MACAPA|SEPE TIARAJU EMPR...| 05.297.501/0002-86|    RUA SETENTRIONAL|       S/N|ESQUINA COM BEIRA...|        ARAXÃ|68903-640|          GASOLINA|    01/09/2025|          5,99|           NULL|       R$ / litro|  BRANCA|\n",
      "|             N|            AP|   MACAPA|SEPE TIARAJU EMPR...| 05.297.501/0002-86|    RUA SETENTRIONAL|       S/N|ESQUINA COM BEIRA...|        ARAXÃ|68903-640|GASOLINA ADITIVADA|    01/09/2025|          6,14|           NULL|       R$ / litro|  BRANCA|\n",
      "|             N|            AP|   MACAPA|SEPE TIARAJU EMPR...| 05.297.501/0002-86|    RUA SETENTRIONAL|       S/N|ESQUINA COM BEIRA...|        ARAXÃ|68903-640|            ETANOL|    01/09/2025|          5,48|           NULL|       R$ / litro|  BRANCA|\n",
      "|             N|            AP|   MACAPA|AUTOMOTO - AUTOMO...| 03.659.452/0002-59|   RUA HILDEMAR MAIA|       900|                   A|    SANTA RITA|68901-310|          GASOLINA|    01/09/2025|          5,95|           NULL|       R$ / litro|  BRANCA|\n",
      "|             N|            AP|   MACAPA|AUTOMOTO COMBUSTI...| 05.983.192/0026-75|     RUA - GUANABARA|       958|                NULL|       PACOVAL|68908-360|          GASOLINA|    01/09/2025|          5,95|           NULL|       R$ / litro|  BRANCA|\n",
      "|             N|            AP|   MACAPA|AUTOMOTO COMBUSTI...| 05.983.192/0016-01|AVENIDA PADRE JUL...|      2143|                NULL|    SANTA RITA|68900-030|          GASOLINA|    01/09/2025|          5,95|           NULL|       R$ / litro|  BRANCA|\n",
      "|             N|            AP|   MACAPA|COMERCIAL GRAO DE...| 04.707.467/0001-27|   RUA HILDEMAR MAIA|      1951|                NULL|     BURITIZAL|68905-160|          GASOLINA|    01/09/2025|          5,95|           NULL|       R$ / litro|  BRANCA|\n",
      "|             N|            AP|   MACAPA|COMERCIAL GRAO DE...| 04.707.467/0001-27|   RUA HILDEMAR MAIA|      1951|                NULL|     BURITIZAL|68905-160|            ETANOL|    01/09/2025|          5,33|           NULL|       R$ / litro|  BRANCA|\n",
      "|             N|            AP|   MACAPA|AUTO POSTO TERCEI...| 03.199.834/0001-66|     RUA MATO GROSSO|       430|                NULL|       PACOVAL|68900-000|          GASOLINA|    01/09/2025|          6,09|           NULL|       R$ / litro|   VIBRA|\n",
      "|            NE|            BA| SALVADOR|DEUSNEI - COMERCI...| 08.378.412/0001-71|AVENIDA DORIVAL  ...|     17336|                NULL|SAO  CRISTOVAO|41635-150|          GASOLINA|    01/09/2025|          6,29|           NULL|       R$ / litro|   VIBRA|\n",
      "|            NE|            BA| SALVADOR|DEUSNEI - COMERCI...| 08.378.412/0001-71|AVENIDA DORIVAL  ...|     17336|                NULL|SAO  CRISTOVAO|41635-150|GASOLINA ADITIVADA|    01/09/2025|          6,59|           NULL|       R$ / litro|   VIBRA|\n",
      "|            NE|            BA| SALVADOR|DEUSNEI - COMERCI...| 08.378.412/0001-71|AVENIDA DORIVAL  ...|     17336|                NULL|SAO  CRISTOVAO|41635-150|            ETANOL|    01/09/2025|          4,79|           NULL|       R$ / litro|   VIBRA|\n",
      "|            NE|            BA| SALVADOR|ESTELLA MARIS DER...| 00.704.922/0001-80|RUA D - PARQUE ST...|        92|   LOTES 05, 06 E 07|  STELLA MARIS|41500-060|          GASOLINA|    01/09/2025|          6,28|           NULL|       R$ / litro|   VIBRA|\n",
      "|            NE|            BA| SALVADOR|ESTELLA MARIS DER...| 00.704.922/0001-80|RUA D - PARQUE ST...|        92|   LOTES 05, 06 E 07|  STELLA MARIS|41500-060|GASOLINA ADITIVADA|    01/09/2025|          6,53|           NULL|       R$ / litro|   VIBRA|\n",
      "|            NE|            BA| SALVADOR|ESTELLA MARIS DER...| 00.704.922/0001-80|RUA D - PARQUE ST...|        92|   LOTES 05, 06 E 07|  STELLA MARIS|41500-060|            ETANOL|    01/09/2025|          4,78|           NULL|       R$ / litro|   VIBRA|\n",
      "+--------------+--------------+---------+--------------------+-------------------+--------------------+----------+--------------------+--------------+---------+------------------+--------------+--------------+---------------+-----------------+--------+\n",
      "only showing top 20 rows\n"
     ]
    }
   ],
   "source": [
    "df.show()"
   ]
  },
  {
   "cell_type": "code",
   "execution_count": 10,
   "id": "a670f820",
   "metadata": {},
   "outputs": [],
   "source": [
    "df_preco = (\n",
    "    df\n",
    "    .select(\"Estado - Sigla\", \"Produto\", \"Valor de Compra\", \"Valor de Venda\", \"Unidade de Medida\")\n",
    ")"
   ]
  },
  {
   "cell_type": "code",
   "execution_count": 12,
   "id": "0dbb26d5",
   "metadata": {},
   "outputs": [
    {
     "name": "stdout",
     "output_type": "stream",
     "text": [
      "+--------------+--------+---------------+--------------+-----------------+\n",
      "|Estado - Sigla| Produto|Valor de Compra|Valor de Venda|Unidade de Medida|\n",
      "+--------------+--------+---------------+--------------+-----------------+\n",
      "|            SP|GASOLINA|           NULL|          5,59|       R$ / litro|\n",
      "|            SP|  ETANOL|           NULL|          3,69|       R$ / litro|\n",
      "|            AP|GASOLINA|           NULL|          5,95|       R$ / litro|\n",
      "|            AP|GASOLINA|           NULL|          5,95|       R$ / litro|\n",
      "|            AP|GASOLINA|           NULL|          5,95|       R$ / litro|\n",
      "+--------------+--------+---------------+--------------+-----------------+\n",
      "only showing top 5 rows\n"
     ]
    }
   ],
   "source": [
    "df_preco.show(5)"
   ]
  },
  {
   "cell_type": "code",
   "execution_count": 13,
   "id": "c2a905b0",
   "metadata": {},
   "outputs": [
    {
     "name": "stdout",
     "output_type": "stream",
     "text": [
      "+--------------+-------+---------------+--------------+-----------------+\n",
      "|Estado - Sigla|Produto|Valor de Compra|Valor de Venda|Unidade de Medida|\n",
      "+--------------+-------+---------------+--------------+-----------------+\n",
      "+--------------+-------+---------------+--------------+-----------------+\n",
      "\n"
     ]
    }
   ],
   "source": [
    "(\n",
    "    df_preco\n",
    "    .where(\n",
    "        F.col(\"Valor de Compra\").isNotNull()\n",
    "    )\n",
    "    .show()\n",
    ")"
   ]
  },
  {
   "cell_type": "code",
   "execution_count": 26,
   "id": "8d6e085c",
   "metadata": {},
   "outputs": [],
   "source": [
    "df_preco = (\n",
    "    df\n",
    "    .select(\"Estado - Sigla\", \"Produto\", \"Valor de Venda\", \"Unidade de Medida\")\n",
    "    .withColumn(\n",
    "        \"Valor de Venda\",\n",
    "        F.regexp_replace(F.col(\"Valor de Venda\"), \",\", \".\")\n",
    "        .cast(\"float\")\n",
    "    )\n",
    ")"
   ]
  },
  {
   "cell_type": "code",
   "execution_count": 29,
   "id": "998d19b0",
   "metadata": {},
   "outputs": [
    {
     "name": "stdout",
     "output_type": "stream",
     "text": [
      "+--------------+------------------+-----------------+-----------+-----------+---------+\n",
      "|Estado - Sigla|           Produto|Unidade de Medida|Menor Preço|Maior Preço|Diferença|\n",
      "+--------------+------------------+-----------------+-----------+-----------+---------+\n",
      "|            SP|GASOLINA ADITIVADA|       R$ / litro|       5.19|       9.59|      4.4|\n",
      "|            SP|          GASOLINA|       R$ / litro|       4.99|       9.19|      4.2|\n",
      "|            SP|            ETANOL|       R$ / litro|       3.19|       6.39|3.1999998|\n",
      "|            BA|GASOLINA ADITIVADA|       R$ / litro|       5.44|       8.49|3.0499997|\n",
      "|            RJ|          GASOLINA|       R$ / litro|       5.39|       7.79|      2.4|\n",
      "|            RJ|GASOLINA ADITIVADA|       R$ / litro|       5.49|       7.79|2.3000002|\n",
      "|            PE|          GASOLINA|       R$ / litro|       5.34|       7.59|     2.25|\n",
      "|            PE|            ETANOL|       R$ / litro|       4.34|       6.49|2.1499996|\n",
      "|            RS|          GASOLINA|       R$ / litro|       5.19|       7.29|      2.1|\n",
      "|            SC|            ETANOL|       R$ / litro|       3.99|       5.93|1.9399998|\n",
      "|            RS|GASOLINA ADITIVADA|       R$ / litro|       5.55|       7.49|1.9399996|\n",
      "|            RS|            ETANOL|       R$ / litro|       4.19|       5.99|1.7999997|\n",
      "|            PA|GASOLINA ADITIVADA|       R$ / litro|       5.65|       7.39|1.7399998|\n",
      "|            GO|GASOLINA ADITIVADA|       R$ / litro|       5.45|       7.17|1.7200003|\n",
      "|            RJ|            ETANOL|       R$ / litro|       3.79|       5.49|1.6999998|\n",
      "|            PE|GASOLINA ADITIVADA|       R$ / litro|       5.34|       6.99|1.6499996|\n",
      "|            MA|GASOLINA ADITIVADA|       R$ / litro|       5.55|       7.19|1.6399999|\n",
      "|            PR|GASOLINA ADITIVADA|       R$ / litro|       5.59|       7.19|1.5999999|\n",
      "|            PA|          GASOLINA|       R$ / litro|       5.55|       7.15|1.5999999|\n",
      "|            AL|GASOLINA ADITIVADA|       R$ / litro|       5.37|       6.89|     1.52|\n",
      "+--------------+------------------+-----------------+-----------+-----------+---------+\n",
      "only showing top 20 rows\n"
     ]
    }
   ],
   "source": [
    "(\n",
    "    df_preco\n",
    "    .groupBy(\n",
    "        F.col(\"Estado - Sigla\"),\n",
    "        F.col(\"Produto\"),\n",
    "        F.col(\"Unidade de Medida\")\n",
    "    )\n",
    "    .agg(\n",
    "        F.min(F.col(\"Valor de Venda\")).alias(\"Menor Preço\"),\n",
    "        F.max(F.col(\"Valor de Venda\")).alias(\"Maior Preço\"),\n",
    "    )\n",
    "    .withColumn(\n",
    "        \"Diferença\",\n",
    "        F.col(\"Maior Preço\") - F.col(\"Menor Preço\")\n",
    "    )\n",
    "    .orderBy(\"Diferença\", ascending=False)\n",
    "    .show()    \n",
    "        \n",
    ")"
   ]
  }
 ],
 "metadata": {
  "kernelspec": {
   "display_name": "pyspak-teste",
   "language": "python",
   "name": "python3"
  },
  "language_info": {
   "codemirror_mode": {
    "name": "ipython",
    "version": 3
   },
   "file_extension": ".py",
   "mimetype": "text/x-python",
   "name": "python",
   "nbconvert_exporter": "python",
   "pygments_lexer": "ipython3",
   "version": "3.14.0"
  }
 },
 "nbformat": 4,
 "nbformat_minor": 5
}
